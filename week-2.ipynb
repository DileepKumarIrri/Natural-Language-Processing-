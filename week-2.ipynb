{
 "cells": [
  {
   "cell_type": "code",
   "execution_count": 2,
   "id": "f22b1ae6",
   "metadata": {},
   "outputs": [],
   "source": [
    "text = '''Atoms of radioactive elements can split. According to Albert Einstein, mass and energy are interchangeable under\n",
    "   certain circumstances. When atoms split, the process is called nuclear fission. In this case, a small amount of\n",
    "   mass is converted into energy. Thus         the energy released cannot do much damage. However, several subatomic \n",
    "   particles called neutrons are also emitted during this process. Each neutron will hit a radioactive element \n",
    "   releasing more neutrons in the process. This causes a chain reaction and creates a large amount of energy. \n",
    "   This energy is converted into heat which expands uncontrollably causing an explosion. \n",
    "   Hence, atoms do not literally explode. They generate energy that can't cause explosions.12354565'''"
   ]
  },
  {
   "cell_type": "code",
   "execution_count": 3,
   "id": "f472c544",
   "metadata": {},
   "outputs": [],
   "source": [
    "#word tokenize.....\n",
    "import re\n",
    "def word_tokenizer(text):\n",
    "    doc = re.sub(\"[^a-zA-Z']\", ' ',text)\n",
    "    doc.strip()\n",
    "    doc = doc.split(' ')\n",
    "    doc = [word.strip() for word in doc if word.strip()]\n",
    "    return doc\n",
    "\n",
    "# sentence tokenizer\n",
    "def sent_tokenizer(text):\n",
    "    d = text.split('.')\n",
    "    doc = [sentence.strip() for sentence in d if sentence.strip()]\n",
    "    return d\n",
    "\n",
    "def paragraph_tokenizer(text):\n",
    "    return text.split('\\n   \\n')\n"
   ]
  },
  {
   "cell_type": "code",
   "execution_count": 4,
   "id": "3329a231",
   "metadata": {},
   "outputs": [
    {
     "name": "stdout",
     "output_type": "stream",
     "text": [
      "['Atoms', 'of', 'radioactive', 'elements', 'can', 'split', 'According', 'to', 'Albert', 'Einstein', 'mass', 'and', 'energy', 'are', 'interchangeable', 'under', 'certain', 'circumstances', 'When', 'atoms', 'split', 'the', 'process', 'is', 'called', 'nuclear', 'fission', 'In', 'this', 'case', 'a', 'small', 'amount', 'of', 'mass', 'is', 'converted', 'into', 'energy', 'Thus', 'the', 'energy', 'released', 'cannot', 'do', 'much', 'damage', 'However', 'several', 'subatomic', 'particles', 'called', 'neutrons', 'are', 'also', 'emitted', 'during', 'this', 'process', 'Each', 'neutron', 'will', 'hit', 'a', 'radioactive', 'element', 'releasing', 'more', 'neutrons', 'in', 'the', 'process', 'This', 'causes', 'a', 'chain', 'reaction', 'and', 'creates', 'a', 'large', 'amount', 'of', 'energy', 'This', 'energy', 'is', 'converted', 'into', 'heat', 'which', 'expands', 'uncontrollably', 'causing', 'an', 'explosion', 'Hence', 'atoms', 'do', 'not', 'literally', 'explode', 'They', 'generate', 'energy', 'that', \"can't\", 'cause', 'explosions']\n"
     ]
    }
   ],
   "source": [
    "res = word_tokenizer(text)\n",
    "print(res)"
   ]
  },
  {
   "cell_type": "code",
   "execution_count": null,
   "id": "a1ee859a",
   "metadata": {},
   "outputs": [],
   "source": []
  },
  {
   "cell_type": "code",
   "execution_count": 5,
   "id": "de8fa01d",
   "metadata": {},
   "outputs": [],
   "source": [
    "te = '''Atoms of radioactive elements can split. According to Albert Einstein, mass and energy are interchangeable under\n",
    "   certain circumstances. When atoms split, the process is called nuclear fission. In this case, a small amount ofmass is converted into energy.\n",
    "   \n",
    "   Thus the energy released cannot do much damage. However, several subatomic \n",
    "   particles called neutrons are also emitted during this process. Each neutron will hit a radioactive element \n",
    "   releasing more neutrons in the process. This causes a chain reaction and creates a large amount of energy.\n",
    "   \n",
    "   This energy is converted into heat which expands uncontrollably causing an explosion. \n",
    "   Hence, atoms do not literally explode. They generate energy that can't cause explosions.'''"
   ]
  },
  {
   "cell_type": "code",
   "execution_count": 6,
   "id": "ef9972cb",
   "metadata": {},
   "outputs": [
    {
     "data": {
      "text/plain": [
       "['Atoms of radioactive elements can split. According to Albert Einstein, mass and energy are interchangeable under\\n   certain circumstances. When atoms split, the process is called nuclear fission. In this case, a small amount ofmass is converted into energy.',\n",
       " '   Thus the energy released cannot do much damage. However, several subatomic \\n   particles called neutrons are also emitted during this process. Each neutron will hit a radioactive element \\n   releasing more neutrons in the process. This causes a chain reaction and creates a large amount of energy.',\n",
       " \"   This energy is converted into heat which expands uncontrollably causing an explosion. \\n   Hence, atoms do not literally explode. They generate energy that can't cause explosions.\"]"
      ]
     },
     "execution_count": 6,
     "metadata": {},
     "output_type": "execute_result"
    }
   ],
   "source": [
    "result = paragraph_tokenizer(te)\n",
    "result"
   ]
  },
  {
   "cell_type": "code",
   "execution_count": 6,
   "id": "323c7872",
   "metadata": {},
   "outputs": [
    {
     "name": "stdout",
     "output_type": "stream",
     "text": [
      "['Atoms', 'of', 'radioactive', 'elements', 'can', 'split', 'According', 'to', 'Albert', 'Einstein', 'mass', 'and', 'energy', 'are', 'interchangeable', 'under', 'certain', 'circumstances', 'When', 'atoms', 'split', 'the', 'process', 'is', 'called', 'nuclear', 'fission', 'In', 'this', 'case', 'a', 'small', 'amount', 'of', 'mass', 'is', 'converted', 'into', 'energy', 'Thus', 'the', 'energy', 'released', 'can', 'not', 'do', 'much', 'damage', 'However', 'several', 'subatomic', 'particles', 'called', 'neutrons', 'are', 'also', 'emitted', 'during', 'this', 'process', 'Each', 'neutron', 'will', 'hit', 'a', 'radioactive', 'element', 'releasing', 'more', 'neutrons', 'in', 'the', 'process', 'This', 'causes', 'a', 'chain', 'reaction', 'and', 'creates', 'a', 'large', 'amount', 'of', 'energy', 'This', 'energy', 'is', 'converted', 'into', 'heat', 'which', 'expands', 'uncontrollably', 'causing', 'an', 'explosion', 'Hence', 'atoms', 'do', 'not', 'literally', 'explode', 'They', 'generate', 'energy', 'that', 'can', 'cause', 'explosions']\n"
     ]
    }
   ],
   "source": [
    "#word tokenizer using predefined functions\n",
    "from nltk import word_tokenize\n",
    "doc = re.sub('[^a-zA-Z]',\" \",text)\n",
    "doc = word_tokenize(doc)\n",
    "print(doc)"
   ]
  },
  {
   "cell_type": "code",
   "execution_count": 7,
   "id": "25ca3e1b",
   "metadata": {},
   "outputs": [
    {
     "name": "stdout",
     "output_type": "stream",
     "text": [
      "['Atoms of radioactive elements can split.', 'According to Albert Einstein, mass and energy are interchangeable under\\n   certain circumstances.', 'When atoms split, the process is called nuclear fission.', 'In this case, a small amount of\\n   mass is converted into energy.', 'Thus         the energy released cannot do much damage.', 'However, several subatomic \\n   particles called neutrons are also emitted during this process.', 'Each neutron will hit a radioactive element \\n   releasing more neutrons in the process.', 'This causes a chain reaction and creates a large amount of energy.', 'This energy is converted into heat which expands uncontrollably causing an explosion.', 'Hence, atoms do not literally explode.', 'They generate energy that can cause explosions.12354565']\n"
     ]
    }
   ],
   "source": [
    "\n",
    "from nltk import sent_tokenize\n",
    "doc = sent_tokenize(text)\n",
    "print(doc)"
   ]
  },
  {
   "cell_type": "code",
   "execution_count": null,
   "id": "17b66951",
   "metadata": {},
   "outputs": [],
   "source": []
  }
 ],
 "metadata": {
  "kernelspec": {
   "display_name": "Python 3 (ipykernel)",
   "language": "python",
   "name": "python3"
  },
  "language_info": {
   "codemirror_mode": {
    "name": "ipython",
    "version": 3
   },
   "file_extension": ".py",
   "mimetype": "text/x-python",
   "name": "python",
   "nbconvert_exporter": "python",
   "pygments_lexer": "ipython3",
   "version": "3.9.12"
  }
 },
 "nbformat": 4,
 "nbformat_minor": 5
}
