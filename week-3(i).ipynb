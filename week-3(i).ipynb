{
 "cells": [
  {
   "cell_type": "code",
   "execution_count": 8,
   "id": "8737d416",
   "metadata": {},
   "outputs": [],
   "source": [
    "import re\n",
    "import nltk\n",
    "from nltk import word_tokenize\n",
    "from nltk.util import ngrams"
   ]
  },
  {
   "cell_type": "code",
   "execution_count": 9,
   "id": "689dc858",
   "metadata": {},
   "outputs": [],
   "source": [
    "text = \"Mary was scared because of the terrifying \""
   ]
  },
  {
   "cell_type": "code",
   "execution_count": 10,
   "id": "29775ee9",
   "metadata": {},
   "outputs": [],
   "source": [
    "def word_tokenizer(text):\n",
    "    doc = re.sub(\"[^a-zA-Z']\", ' ',text)\n",
    "    doc.strip()\n",
    "    doc = doc.split(' ')\n",
    "    doc = [word.strip() for word in doc if word.strip()]\n",
    "    return doc"
   ]
  },
  {
   "cell_type": "code",
   "execution_count": 12,
   "id": "570a53ba",
   "metadata": {},
   "outputs": [
    {
     "data": {
      "text/plain": [
       "['Mary', 'was', 'scared', 'because', 'of', 'the', 'terrifying']"
      ]
     },
     "execution_count": 12,
     "metadata": {},
     "output_type": "execute_result"
    }
   ],
   "source": [
    "tokens = word_tokenizer(text)\n",
    "tokens"
   ]
  },
  {
   "cell_type": "code",
   "execution_count": 15,
   "id": "0b2e25a0",
   "metadata": {},
   "outputs": [
    {
     "data": {
      "text/plain": [
       "[('Mary',),\n",
       " ('was',),\n",
       " ('scared',),\n",
       " ('because',),\n",
       " ('of',),\n",
       " ('the',),\n",
       " ('terrifying',)]"
      ]
     },
     "execution_count": 15,
     "metadata": {},
     "output_type": "execute_result"
    }
   ],
   "source": [
    "### uni grams\n",
    "uni_grams = list(ngrams(tokens,1))\n",
    "uni_grams"
   ]
  },
  {
   "cell_type": "code",
   "execution_count": 17,
   "id": "1ce964c3",
   "metadata": {},
   "outputs": [
    {
     "data": {
      "text/plain": [
       "[('Mary', 'was'),\n",
       " ('was', 'scared'),\n",
       " ('scared', 'because'),\n",
       " ('because', 'of'),\n",
       " ('of', 'the'),\n",
       " ('the', 'terrifying')]"
      ]
     },
     "execution_count": 17,
     "metadata": {},
     "output_type": "execute_result"
    }
   ],
   "source": [
    "### Bi Grams\n",
    "bi_grams = list(ngrams(tokens,2))\n",
    "bi_grams"
   ]
  },
  {
   "cell_type": "code",
   "execution_count": 20,
   "id": "5e2c5b53",
   "metadata": {},
   "outputs": [
    {
     "data": {
      "text/plain": [
       "[('Mary', 'was', 'scared'),\n",
       " ('was', 'scared', 'because'),\n",
       " ('scared', 'because', 'of'),\n",
       " ('because', 'of', 'the'),\n",
       " ('of', 'the', 'terrifying')]"
      ]
     },
     "execution_count": 20,
     "metadata": {},
     "output_type": "execute_result"
    }
   ],
   "source": [
    "### Tri grams\n",
    "tri_grams = list(ngrams(tokens,3))\n",
    "tri_grams"
   ]
  },
  {
   "cell_type": "code",
   "execution_count": 21,
   "id": "6d020f9e",
   "metadata": {},
   "outputs": [
    {
     "data": {
      "text/plain": [
       "[('Mary', 'was', 'scared', 'because', 'of', 'the'),\n",
       " ('was', 'scared', 'because', 'of', 'the', 'terrifying')]"
      ]
     },
     "execution_count": 21,
     "metadata": {},
     "output_type": "execute_result"
    }
   ],
   "source": [
    "### n grams\n",
    "n=6\n",
    "n_grams = list(ngrams(tokens,n))\n",
    "n_grams"
   ]
  },
  {
   "cell_type": "code",
   "execution_count": null,
   "id": "416df805",
   "metadata": {},
   "outputs": [],
   "source": []
  },
  {
   "cell_type": "code",
   "execution_count": 70,
   "id": "1974958e",
   "metadata": {},
   "outputs": [],
   "source": [
    "# user defined functions\n",
    "def unigrams(tokens):\n",
    "    return [(token) for token in tokens]\n",
    "\n",
    "def Bigrams(tokens):\n",
    "    return [(tokens[i],tokens[i+1]) for i in range(len(tokens)-1)]\n",
    "\n",
    "def Trigrams(tokens):\n",
    "    return [(tokens[i],tokens[i+1],tokens[i+2]) for i in range(len(tokens)-2)]\n",
    "\n",
    "\n",
    "def n_grams(tokens, n):\n",
    "    l = []\n",
    "    for i in range(len(tokens)-n+1):\n",
    "        element = ()\n",
    "        for j in range(i, i+n):\n",
    "            element += (tokens[j],)\n",
    "        l.append(element)\n",
    "    return l"
   ]
  },
  {
   "cell_type": "code",
   "execution_count": 71,
   "id": "23b378d6",
   "metadata": {},
   "outputs": [
    {
     "data": {
      "text/plain": [
       "['Mary', 'was', 'scared', 'because', 'of', 'the', 'terrifying']"
      ]
     },
     "execution_count": 71,
     "metadata": {},
     "output_type": "execute_result"
    }
   ],
   "source": [
    "u_grams = unigrams(tokens)\n",
    "u_grams"
   ]
  },
  {
   "cell_type": "code",
   "execution_count": 72,
   "id": "521c17b6",
   "metadata": {},
   "outputs": [
    {
     "data": {
      "text/plain": [
       "[('Mary', 'was'),\n",
       " ('was', 'scared'),\n",
       " ('scared', 'because'),\n",
       " ('because', 'of'),\n",
       " ('of', 'the'),\n",
       " ('the', 'terrifying')]"
      ]
     },
     "execution_count": 72,
     "metadata": {},
     "output_type": "execute_result"
    }
   ],
   "source": [
    "B_grams = Bigrams(tokens)\n",
    "B_grams"
   ]
  },
  {
   "cell_type": "code",
   "execution_count": 73,
   "id": "114b4bbc",
   "metadata": {},
   "outputs": [
    {
     "data": {
      "text/plain": [
       "[('Mary', 'was', 'scared'),\n",
       " ('was', 'scared', 'because'),\n",
       " ('scared', 'because', 'of'),\n",
       " ('because', 'of', 'the'),\n",
       " ('of', 'the', 'terrifying')]"
      ]
     },
     "execution_count": 73,
     "metadata": {},
     "output_type": "execute_result"
    }
   ],
   "source": [
    "t_grams = Trigrams(tokens)\n",
    "t_grams"
   ]
  },
  {
   "cell_type": "code",
   "execution_count": 74,
   "id": "022934c8",
   "metadata": {},
   "outputs": [
    {
     "data": {
      "text/plain": [
       "[('Mary', 'was', 'scared', 'because', 'of', 'the'),\n",
       " ('was', 'scared', 'because', 'of', 'the', 'terrifying')]"
      ]
     },
     "execution_count": 74,
     "metadata": {},
     "output_type": "execute_result"
    }
   ],
   "source": [
    "n_grams = n_grams(tokens, 6)\n",
    "n_grams"
   ]
  }
 ],
 "metadata": {
  "kernelspec": {
   "display_name": "Python 3 (ipykernel)",
   "language": "python",
   "name": "python3"
  },
  "language_info": {
   "codemirror_mode": {
    "name": "ipython",
    "version": 3
   },
   "file_extension": ".py",
   "mimetype": "text/x-python",
   "name": "python",
   "nbconvert_exporter": "python",
   "pygments_lexer": "ipython3",
   "version": "3.9.12"
  }
 },
 "nbformat": 4,
 "nbformat_minor": 5
}
