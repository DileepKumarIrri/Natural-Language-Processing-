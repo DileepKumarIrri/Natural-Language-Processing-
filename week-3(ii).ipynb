{
 "cells": [
  {
   "cell_type": "code",
   "execution_count": 1,
   "id": "1d8a260b",
   "metadata": {},
   "outputs": [],
   "source": [
    "import nltk\n",
    "from nltk import bigrams, FreqDist, ConditionalFreqDist"
   ]
  },
  {
   "cell_type": "code",
   "execution_count": 21,
   "id": "3cb011d5",
   "metadata": {},
   "outputs": [],
   "source": [
    "text = \"This is an example sentence. This sentence demonstrates the program.\""
   ]
  },
  {
   "cell_type": "code",
   "execution_count": 22,
   "id": "a133ff04",
   "metadata": {},
   "outputs": [],
   "source": [
    "def conditional_probabilities(text):\n",
    "    words = nltk.word_tokenize(text)\n",
    "    word_pairs = list(bigrams(words))\n",
    "    cfd = ConditionalFreqDist(word_pairs)\n",
    "    print(cfd)\n",
    "    print(cfd.conditions())\n",
    "    \n",
    "    conditional_probabilities = {}\n",
    "    #print(cfd['is'])\n",
    "\n",
    "    for condition in cfd.conditions():\n",
    "        total_count = cfd[condition].N()\n",
    "        print('count of ('+condition+'):',total_count)\n",
    "        probabilities = {word: cfd[condition][word] / total_count for word in cfd[condition]}\n",
    "        print('next words: ',probabilities)\n",
    "        conditional_probabilities[condition]= probabilities\n",
    "        \n",
    "    print(\"\\n\",conditional_probabilities)\n",
    "    return conditional_probabilities"
   ]
  },
  {
   "cell_type": "code",
   "execution_count": 23,
   "id": "1f8242be",
   "metadata": {},
   "outputs": [
    {
     "name": "stdout",
     "output_type": "stream",
     "text": [
      "<ConditionalFreqDist with 9 conditions>\n",
      "['This', 'is', 'an', 'example', 'sentence', '.', 'demonstrates', 'the', 'program']\n",
      "count of (This): 2\n",
      "next words:  {'is': 0.5, 'sentence': 0.5}\n",
      "count of (is): 1\n",
      "next words:  {'an': 1.0}\n",
      "count of (an): 1\n",
      "next words:  {'example': 1.0}\n",
      "count of (example): 1\n",
      "next words:  {'sentence': 1.0}\n",
      "count of (sentence): 2\n",
      "next words:  {'.': 0.5, 'demonstrates': 0.5}\n",
      "count of (.): 1\n",
      "next words:  {'This': 1.0}\n",
      "count of (demonstrates): 1\n",
      "next words:  {'the': 1.0}\n",
      "count of (the): 1\n",
      "next words:  {'program': 1.0}\n",
      "count of (program): 1\n",
      "next words:  {'.': 1.0}\n",
      "\n",
      " {'This': {'is': 0.5, 'sentence': 0.5}, 'is': {'an': 1.0}, 'an': {'example': 1.0}, 'example': {'sentence': 1.0}, 'sentence': {'.': 0.5, 'demonstrates': 0.5}, '.': {'This': 1.0}, 'demonstrates': {'the': 1.0}, 'the': {'program': 1.0}, 'program': {'.': 1.0}}\n"
     ]
    },
    {
     "data": {
      "text/plain": [
       "{'This': {'is': 0.5, 'sentence': 0.5},\n",
       " 'is': {'an': 1.0},\n",
       " 'an': {'example': 1.0},\n",
       " 'example': {'sentence': 1.0},\n",
       " 'sentence': {'.': 0.5, 'demonstrates': 0.5},\n",
       " '.': {'This': 1.0},\n",
       " 'demonstrates': {'the': 1.0},\n",
       " 'the': {'program': 1.0},\n",
       " 'program': {'.': 1.0}}"
      ]
     },
     "execution_count": 23,
     "metadata": {},
     "output_type": "execute_result"
    }
   ],
   "source": [
    "c_probabilities = conditional_probabilities(text)\n",
    "c_probabilities"
   ]
  },
  {
   "cell_type": "code",
   "execution_count": 77,
   "id": "d9e5319a",
   "metadata": {},
   "outputs": [],
   "source": [
    "def highest_probability_word(conditional_probabilities, w1):\n",
    "    if w1 in conditional_probabilities:\n",
    "        probabilities = conditional_probabilities[w1]\n",
    "        max=-1\n",
    "        for k in probabilities:\n",
    "#             print(probabilities[k])\n",
    "            if probabilities[k]>max:\n",
    "                max = probabilities[k]\n",
    "                w = k\n",
    "        print(w,max)\n",
    "    "
   ]
  },
  {
   "cell_type": "code",
   "execution_count": 79,
   "id": "003901ae",
   "metadata": {},
   "outputs": [
    {
     "name": "stdout",
     "output_type": "stream",
     "text": [
      "program 1.0\n"
     ]
    }
   ],
   "source": [
    "highest_probability_word(c_probabilities, 'the')"
   ]
  },
  {
   "cell_type": "code",
   "execution_count": null,
   "id": "dd65cf68",
   "metadata": {},
   "outputs": [],
   "source": []
  }
 ],
 "metadata": {
  "kernelspec": {
   "display_name": "Python 3 (ipykernel)",
   "language": "python",
   "name": "python3"
  },
  "language_info": {
   "codemirror_mode": {
    "name": "ipython",
    "version": 3
   },
   "file_extension": ".py",
   "mimetype": "text/x-python",
   "name": "python",
   "nbconvert_exporter": "python",
   "pygments_lexer": "ipython3",
   "version": "3.9.12"
  }
 },
 "nbformat": 4,
 "nbformat_minor": 5
}
