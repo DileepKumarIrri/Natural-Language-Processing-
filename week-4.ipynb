{
 "cells": [
  {
   "cell_type": "markdown",
   "id": "dda79595",
   "metadata": {},
   "source": [
    "# (i)Write a program to identify the word collocations."
   ]
  },
  {
   "cell_type": "code",
   "execution_count": 10,
   "id": "0e27c6f2",
   "metadata": {},
   "outputs": [],
   "source": [
    "import nltk\n",
    "from nltk.collocations import BigramCollocationFinder\n",
    "from nltk.metrics import BigramAssocMeasures"
   ]
  },
  {
   "cell_type": "code",
   "execution_count": 11,
   "id": "e6875011",
   "metadata": {},
   "outputs": [],
   "source": [
    "def identify_collocations(text):\n",
    "    words = nltk.word_tokenize(text)\n",
    "    finder = BigramCollocationFinder.from_words(words)\n",
    "    collocations = finder.nbest(BigramAssocMeasures.likelihood_ratio, 10)\n",
    "    return collocations\n"
   ]
  },
  {
   "cell_type": "code",
   "execution_count": 12,
   "id": "12eec98a",
   "metadata": {},
   "outputs": [],
   "source": [
    "text = \"The quick brown fox jumps over the lazy dog. The lazy dog sleeps all day.\"\n",
    "collocations = identify_collocations(text)"
   ]
  },
  {
   "cell_type": "code",
   "execution_count": 14,
   "id": "47c33985",
   "metadata": {},
   "outputs": [
    {
     "name": "stdout",
     "output_type": "stream",
     "text": [
      "Collocations:\n",
      "('lazy', 'dog')\n",
      "('all', 'day')\n",
      "('brown', 'fox')\n",
      "('fox', 'jumps')\n",
      "('jumps', 'over')\n",
      "('over', 'the')\n",
      "('quick', 'brown')\n",
      "('sleeps', 'all')\n",
      "('The', 'quick')\n",
      "('day', '.')\n"
     ]
    }
   ],
   "source": [
    "print(\"Collocations:\")\n",
    "for collocation in collocations:\n",
    "    print(collocation)"
   ]
  },
  {
   "cell_type": "code",
   "execution_count": null,
   "id": "9c5c4d3e",
   "metadata": {},
   "outputs": [],
   "source": []
  },
  {
   "cell_type": "markdown",
   "id": "32434698",
   "metadata": {},
   "source": [
    "# (ii) Write a program to print all words beginning with a given sequence of letters.\n"
   ]
  },
  {
   "cell_type": "code",
   "execution_count": 16,
   "id": "67e4addd",
   "metadata": {},
   "outputs": [],
   "source": [
    "text = ['apple', 'apricot', 'approach', 'application', 'applaud',  'aptitude', 'apartment', 'appetite', 'apron', 'appeal']"
   ]
  },
  {
   "cell_type": "code",
   "execution_count": 21,
   "id": "d2771cb9",
   "metadata": {},
   "outputs": [],
   "source": [
    "def find_words(text, sequence):\n",
    "    n = len(sequence)\n",
    "    for word in text:\n",
    "        if sequence == word[:n]:\n",
    "            print(word)"
   ]
  },
  {
   "cell_type": "code",
   "execution_count": 23,
   "id": "01e797b5",
   "metadata": {},
   "outputs": [
    {
     "name": "stdout",
     "output_type": "stream",
     "text": [
      "apple\n",
      "approach\n",
      "application\n",
      "applaud\n",
      "appetite\n",
      "appeal\n"
     ]
    }
   ],
   "source": [
    "find_words(text, 'app')"
   ]
  },
  {
   "cell_type": "code",
   "execution_count": null,
   "id": "e34fedb0",
   "metadata": {},
   "outputs": [],
   "source": []
  },
  {
   "cell_type": "code",
   "execution_count": null,
   "id": "d74742d3",
   "metadata": {},
   "outputs": [],
   "source": []
  },
  {
   "cell_type": "markdown",
   "id": "6dcc0573",
   "metadata": {},
   "source": [
    "# (iii) Write a program to print all words longer than four characters."
   ]
  },
  {
   "cell_type": "code",
   "execution_count": 25,
   "id": "54403593",
   "metadata": {},
   "outputs": [],
   "source": [
    "import nltk"
   ]
  },
  {
   "cell_type": "code",
   "execution_count": 30,
   "id": "a45c7ff5",
   "metadata": {},
   "outputs": [],
   "source": [
    "def words_longer_than_fourcharacters(text):\n",
    "    for word in text:\n",
    "        if(len(word)>4):\n",
    "            print(word)"
   ]
  },
  {
   "cell_type": "code",
   "execution_count": 31,
   "id": "6193c6d5",
   "metadata": {},
   "outputs": [
    {
     "name": "stdout",
     "output_type": "stream",
     "text": [
      "quick\n",
      "brown\n",
      "jumps\n",
      "sleeps\n"
     ]
    }
   ],
   "source": [
    "text = \"The quick brown fox jumps over the lazy dog. The lazy dog sleeps all day.\"\n",
    "words = nltk.word_tokenize(text)\n",
    "words_longer_than_fourcharacters(words)"
   ]
  }
 ],
 "metadata": {
  "kernelspec": {
   "display_name": "Python 3 (ipykernel)",
   "language": "python",
   "name": "python3"
  },
  "language_info": {
   "codemirror_mode": {
    "name": "ipython",
    "version": 3
   },
   "file_extension": ".py",
   "mimetype": "text/x-python",
   "name": "python",
   "nbconvert_exporter": "python",
   "pygments_lexer": "ipython3",
   "version": "3.9.12"
  }
 },
 "nbformat": 4,
 "nbformat_minor": 5
}
