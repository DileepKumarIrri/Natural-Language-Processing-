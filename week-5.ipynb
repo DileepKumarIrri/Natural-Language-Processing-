{
 "cells": [
  {
   "cell_type": "markdown",
   "id": "fdd4d8b2",
   "metadata": {},
   "source": [
    "# (i)Write a program to identify the mathematical expression in a given sentence."
   ]
  },
  {
   "cell_type": "code",
   "execution_count": 3,
   "id": "8297da15",
   "metadata": {},
   "outputs": [],
   "source": [
    "import re\n",
    "\n",
    "def identify_math_expression(sentence):\n",
    "    pattern = r'\\b(?:\\d+\\s*[\\+\\-\\*/\\^]\\s*)+\\d+\\b'\n",
    "    matches = re.findall(pattern, sentence)\n",
    "\n",
    "    return matches"
   ]
  },
  {
   "cell_type": "code",
   "execution_count": 5,
   "id": "8764b918",
   "metadata": {},
   "outputs": [
    {
     "name": "stdout",
     "output_type": "stream",
     "text": [
      "Mathematical expressions found in the sentence:\n",
      "5+6*3-7\n"
     ]
    }
   ],
   "source": [
    "sentence = \"The area of a rectangle can be calculated by multiplying its length by its width, like 5+6*3-7.\"\n",
    "expressions = identify_math_expression(sentence)\n",
    "print(\"Mathematical expressions found in the sentence:\")\n",
    "for exp in expressions:\n",
    "    print(exp)"
   ]
  },
  {
   "cell_type": "code",
   "execution_count": null,
   "id": "b7ab3740",
   "metadata": {},
   "outputs": [],
   "source": []
  },
  {
   "cell_type": "markdown",
   "id": "67e74ddf",
   "metadata": {},
   "source": [
    "# (ii)Write a program to identify different components of an email address."
   ]
  },
  {
   "cell_type": "code",
   "execution_count": 6,
   "id": "e21925f1",
   "metadata": {},
   "outputs": [
    {
     "name": "stdout",
     "output_type": "stream",
     "text": [
      "Username: example.user\n",
      "Domain: example\n",
      "Top-Level Domain (TLD): com\n"
     ]
    }
   ],
   "source": [
    "import re\n",
    "\n",
    "def identify_email_components(email):\n",
    "    # Regular expression pattern to identify email components\n",
    "    pattern = r'^([\\w\\.-]+)@([\\w\\.-]+)\\.([a-zA-Z]{2,})$'\n",
    "    match = re.match(pattern, email)\n",
    "\n",
    "    if match:\n",
    "        username = match.group(1)\n",
    "        domain = match.group(2)\n",
    "        tld = match.group(3)\n",
    "        return username, domain, tld\n",
    "    else:\n",
    "        return None\n",
    "\n",
    "# Example usage\n",
    "email_address = \"example.user@example.com\"\n",
    "components = identify_email_components(email_address)\n",
    "if components:\n",
    "    username, domain, tld = components\n",
    "    print(\"Username:\", username)\n",
    "    print(\"Domain:\", domain)\n",
    "    print(\"Top-Level Domain (TLD):\", tld)\n",
    "else:\n",
    "    print(\"Invalid email address format.\")\n"
   ]
  }
 ],
 "metadata": {
  "kernelspec": {
   "display_name": "Python 3 (ipykernel)",
   "language": "python",
   "name": "python3"
  },
  "language_info": {
   "codemirror_mode": {
    "name": "ipython",
    "version": 3
   },
   "file_extension": ".py",
   "mimetype": "text/x-python",
   "name": "python",
   "nbconvert_exporter": "python",
   "pygments_lexer": "ipython3",
   "version": "3.9.12"
  }
 },
 "nbformat": 4,
 "nbformat_minor": 5
}
