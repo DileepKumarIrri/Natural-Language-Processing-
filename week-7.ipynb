{
 "cells": [
  {
   "cell_type": "markdown",
   "id": "8addfaa7",
   "metadata": {},
   "source": [
    "# (i) Write a program to find all the stop words in any given text.\n"
   ]
  },
  {
   "cell_type": "code",
   "execution_count": 13,
   "id": "01fbafc1",
   "metadata": {},
   "outputs": [],
   "source": [
    "import nltk\n",
    "from nltk import word_tokenize\n",
    "from nltk.corpus import stopwords\n",
    "import re"
   ]
  },
  {
   "cell_type": "code",
   "execution_count": 4,
   "id": "d1bf34c5",
   "metadata": {},
   "outputs": [],
   "source": [
    "text = \"The quick brown fox jumps over the lazy dog. The lazy dog sleeps all day.\""
   ]
  },
  {
   "cell_type": "code",
   "execution_count": 8,
   "id": "f8b22e61",
   "metadata": {},
   "outputs": [
    {
     "name": "stdout",
     "output_type": "stream",
     "text": [
      "['The', 'quick', 'brown', 'fox', 'jumps', 'over', 'the', 'lazy', 'dog', '.', 'The', 'lazy', 'dog', 'sleeps', 'all', 'day', '.']\n"
     ]
    }
   ],
   "source": [
    "tokens = word_tokenize(text)\n",
    "print(tokens)"
   ]
  },
  {
   "cell_type": "code",
   "execution_count": 11,
   "id": "b718c886",
   "metadata": {},
   "outputs": [
    {
     "name": "stdout",
     "output_type": "stream",
     "text": [
      "['The', 'quick', 'brown', 'fox', 'jumps', 'over', 'the', 'lazy', 'dog', 'The', 'lazy', 'dog', 'sleeps', 'all', 'day']\n"
     ]
    }
   ],
   "source": [
    "data = re.sub('[^a-zA-Z]', \" \", text)\n",
    "tokenlist = word_tokenize(data)\n",
    "print(tokenlist)"
   ]
  },
  {
   "cell_type": "code",
   "execution_count": 18,
   "id": "7ddf10ff",
   "metadata": {},
   "outputs": [
    {
     "name": "stdout",
     "output_type": "stream",
     "text": [
      "{'over', 'The', 'the', 'all'}\n"
     ]
    }
   ],
   "source": [
    "stop_words = stopwords.words('english')\n",
    "l =set([w for w in tokenlist if w.lower() in stop_words])\n",
    "print(l)"
   ]
  },
  {
   "cell_type": "code",
   "execution_count": null,
   "id": "f17e6dba",
   "metadata": {},
   "outputs": [],
   "source": []
  },
  {
   "cell_type": "code",
   "execution_count": null,
   "id": "5d4f35cc",
   "metadata": {},
   "outputs": [],
   "source": []
  },
  {
   "cell_type": "markdown",
   "id": "b6efb415",
   "metadata": {},
   "source": [
    "# (ii) Write a function that finds the 50 most frequently occurring words of a text that are not stopwords."
   ]
  },
  {
   "cell_type": "code",
   "execution_count": 20,
   "id": "02a1e7d9",
   "metadata": {},
   "outputs": [],
   "source": [
    "import nltk \n",
    "from nltk.tokenize import word_tokenize\n",
    "from nltk.corpus import stopwords\n",
    "from collections import Counter"
   ]
  },
  {
   "cell_type": "code",
   "execution_count": 21,
   "id": "778c2849",
   "metadata": {},
   "outputs": [],
   "source": [
    "text = \"\"\" In the bustling city of New York, there lived a charismatic street musician named Jack. \n",
    "    Every evening, he mesmerized the crowd with his soulful melodies, earning both admiration and coins. \n",
    "    One fateful night, as Jack played his guitar beneath the starlit sky, he caught the attention of a mysterious stranger. \n",
    "    Impressed by Jack's talent, the stranger offered him a chance to perform at a renowned music festival.\n",
    "    With newfound fame, Jack's music echoed across the city, inspiring countless souls with its magic. \"\"\""
   ]
  },
  {
   "cell_type": "code",
   "execution_count": 34,
   "id": "edc966d6",
   "metadata": {},
   "outputs": [],
   "source": [
    "def most_frequent_words(text):\n",
    "    text = re.sub('[^a-zA-Z]', \" \", text)\n",
    "    words = word_tokenize(text)\n",
    "    stop_words = stopwords.words('english')\n",
    "    filtered_words = [word for word in words if word.lower() not in stop_words]\n",
    "    print(filtered_words)\n",
    "    print()\n",
    "    word_freq = Counter(filtered_words)\n",
    "    print(word_freq)\n",
    "    \n",
    "    most_common_words = word_freq.most_common(50)\n",
    "    return most_common_words"
   ]
  },
  {
   "cell_type": "code",
   "execution_count": 35,
   "id": "799f41db",
   "metadata": {},
   "outputs": [
    {
     "name": "stdout",
     "output_type": "stream",
     "text": [
      "['bustling', 'city', 'New', 'York', 'lived', 'charismatic', 'street', 'musician', 'named', 'Jack', 'Every', 'evening', 'mesmerized', 'crowd', 'soulful', 'melodies', 'earning', 'admiration', 'coins', 'One', 'fateful', 'night', 'Jack', 'played', 'guitar', 'beneath', 'starlit', 'sky', 'caught', 'attention', 'mysterious', 'stranger', 'Impressed', 'Jack', 'talent', 'stranger', 'offered', 'chance', 'perform', 'renowned', 'music', 'festival', 'newfound', 'fame', 'Jack', 'music', 'echoed', 'across', 'city', 'inspiring', 'countless', 'souls', 'magic']\n",
      "\n",
      "Counter({'Jack': 4, 'city': 2, 'stranger': 2, 'music': 2, 'bustling': 1, 'New': 1, 'York': 1, 'lived': 1, 'charismatic': 1, 'street': 1, 'musician': 1, 'named': 1, 'Every': 1, 'evening': 1, 'mesmerized': 1, 'crowd': 1, 'soulful': 1, 'melodies': 1, 'earning': 1, 'admiration': 1, 'coins': 1, 'One': 1, 'fateful': 1, 'night': 1, 'played': 1, 'guitar': 1, 'beneath': 1, 'starlit': 1, 'sky': 1, 'caught': 1, 'attention': 1, 'mysterious': 1, 'Impressed': 1, 'talent': 1, 'offered': 1, 'chance': 1, 'perform': 1, 'renowned': 1, 'festival': 1, 'newfound': 1, 'fame': 1, 'echoed': 1, 'across': 1, 'inspiring': 1, 'countless': 1, 'souls': 1, 'magic': 1})\n",
      "\n",
      "\n",
      " [('Jack', 4), ('city', 2), ('stranger', 2), ('music', 2), ('bustling', 1), ('New', 1), ('York', 1), ('lived', 1), ('charismatic', 1), ('street', 1), ('musician', 1), ('named', 1), ('Every', 1), ('evening', 1), ('mesmerized', 1), ('crowd', 1), ('soulful', 1), ('melodies', 1), ('earning', 1), ('admiration', 1), ('coins', 1), ('One', 1), ('fateful', 1), ('night', 1), ('played', 1), ('guitar', 1), ('beneath', 1), ('starlit', 1), ('sky', 1), ('caught', 1), ('attention', 1), ('mysterious', 1), ('Impressed', 1), ('talent', 1), ('offered', 1), ('chance', 1), ('perform', 1), ('renowned', 1), ('festival', 1), ('newfound', 1), ('fame', 1), ('echoed', 1), ('across', 1), ('inspiring', 1), ('countless', 1), ('souls', 1), ('magic', 1)]\n"
     ]
    }
   ],
   "source": [
    "top_words = most_frequent_words(text)\n",
    "print('\\n\\n',top_words)"
   ]
  }
 ],
 "metadata": {
  "kernelspec": {
   "display_name": "Python 3 (ipykernel)",
   "language": "python",
   "name": "python3"
  },
  "language_info": {
   "codemirror_mode": {
    "name": "ipython",
    "version": 3
   },
   "file_extension": ".py",
   "mimetype": "text/x-python",
   "name": "python",
   "nbconvert_exporter": "python",
   "pygments_lexer": "ipython3",
   "version": "3.9.12"
  }
 },
 "nbformat": 4,
 "nbformat_minor": 5
}
