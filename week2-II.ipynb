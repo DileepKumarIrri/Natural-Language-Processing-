{
 "cells": [
  {
   "cell_type": "code",
   "execution_count": 4,
   "id": "378e4658",
   "metadata": {},
   "outputs": [],
   "source": [
    "import re\n",
    "def word_tokenizer(text):\n",
    "    doc = re.sub(\"[^a-zA-Z']\", ' ',text)\n",
    "    doc.strip()\n",
    "    doc = doc.split(' ')\n",
    "    doc = [word.strip() for word in doc if word.strip()]\n",
    "    return doc"
   ]
  },
  {
   "cell_type": "code",
   "execution_count": 5,
   "id": "8fe79725",
   "metadata": {},
   "outputs": [],
   "source": [
    "text = '''Atoms of radioactive elements can split. According to Albert Einstein, mass and energy are interchangeable under\n",
    "   certain circumstances. When atoms split, the process is called nuclear fission. In this case, a small amount of\n",
    "   mass is converted into energy. Thus         the energy released cannot do much damage. However, several subatomic \n",
    "   particles called neutrons are also emitted during this process. Each neutron will hit a radioactive element \n",
    "   releasing more neutrons in the process. This causes a chain reaction and creates a large amount of energy. \n",
    "   This energy is converted into heat which expands uncontrollably causing an explosion. \n",
    "   Hence, atoms do not literally explode. They generate energy that can't cause explosions.12354565'''"
   ]
  },
  {
   "cell_type": "code",
   "execution_count": 7,
   "id": "6651836f",
   "metadata": {},
   "outputs": [
    {
     "name": "stdout",
     "output_type": "stream",
     "text": [
      "['Atoms', 'of', 'radioactive', 'elements', 'can', 'split', 'According', 'to', 'Albert', 'Einstein', 'mass', 'and', 'energy', 'are', 'interchangeable', 'under', 'certain', 'circumstances', 'When', 'atoms', 'split', 'the', 'process', 'is', 'called', 'nuclear', 'fission', 'In', 'this', 'case', 'a', 'small', 'amount', 'of', 'mass', 'is', 'converted', 'into', 'energy', 'Thus', 'the', 'energy', 'released', 'cannot', 'do', 'much', 'damage', 'However', 'several', 'subatomic', 'particles', 'called', 'neutrons', 'are', 'also', 'emitted', 'during', 'this', 'process', 'Each', 'neutron', 'will', 'hit', 'a', 'radioactive', 'element', 'releasing', 'more', 'neutrons', 'in', 'the', 'process', 'This', 'causes', 'a', 'chain', 'reaction', 'and', 'creates', 'a', 'large', 'amount', 'of', 'energy', 'This', 'energy', 'is', 'converted', 'into', 'heat', 'which', 'expands', 'uncontrollably', 'causing', 'an', 'explosion', 'Hence', 'atoms', 'do', 'not', 'literally', 'explode', 'They', 'generate', 'energy', 'that', \"can't\", 'cause', 'explosions']\n"
     ]
    }
   ],
   "source": [
    "res = word_tokenizer(text)\n",
    "print(res)"
   ]
  },
  {
   "cell_type": "code",
   "execution_count": 8,
   "id": "c8f8e42c",
   "metadata": {},
   "outputs": [
    {
     "name": "stdout",
     "output_type": "stream",
     "text": [
      "Total number of words in the corpus:  109\n"
     ]
    }
   ],
   "source": [
    "print('Total number of words in the corpus: ', len(res))"
   ]
  },
  {
   "cell_type": "code",
   "execution_count": 9,
   "id": "c3dd9032",
   "metadata": {},
   "outputs": [
    {
     "name": "stdout",
     "output_type": "stream",
     "text": [
      "Distinct words in the corpus:  79\n"
     ]
    }
   ],
   "source": [
    "print(\"Distinct words in the corpus: \", len(set(res)))"
   ]
  }
 ],
 "metadata": {
  "kernelspec": {
   "display_name": "Python 3 (ipykernel)",
   "language": "python",
   "name": "python3"
  },
  "language_info": {
   "codemirror_mode": {
    "name": "ipython",
    "version": 3
   },
   "file_extension": ".py",
   "mimetype": "text/x-python",
   "name": "python",
   "nbconvert_exporter": "python",
   "pygments_lexer": "ipython3",
   "version": "3.9.12"
  }
 },
 "nbformat": 4,
 "nbformat_minor": 5
}
